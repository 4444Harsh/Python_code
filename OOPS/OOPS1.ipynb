{
 "cells": [
  {
   "cell_type": "markdown",
   "id": "7801a391-25c1-44f2-b36b-97bdc56dbea9",
   "metadata": {},
   "source": [
    "# OOPS"
   ]
  },
  {
   "cell_type": "markdown",
   "id": "bf5d09af-747b-4df1-861d-7a1117402121",
   "metadata": {},
   "source": [
    "object-oriented programming system"
   ]
  },
  {
   "cell_type": "code",
   "execution_count": 1,
   "id": "976d5e1c-fb6b-4796-863a-f22ba11a1d75",
   "metadata": {},
   "outputs": [],
   "source": [
    "a=1"
   ]
  },
  {
   "cell_type": "code",
   "execution_count": 2,
   "id": "fb98d693-4222-4bf8-800c-8afb593a06ec",
   "metadata": {},
   "outputs": [
    {
     "name": "stdout",
     "output_type": "stream",
     "text": [
      "<class 'int'>\n"
     ]
    }
   ],
   "source": [
    "print(type(a))"
   ]
  },
  {
   "cell_type": "code",
   "execution_count": 3,
   "id": "73b6f392-79bc-4b09-8d8b-4d5dd72ad49a",
   "metadata": {},
   "outputs": [
    {
     "name": "stdout",
     "output_type": "stream",
     "text": [
      "<class 'str'>\n"
     ]
    }
   ],
   "source": [
    "print(type(\"Harsh\"))"
   ]
  },
  {
   "cell_type": "markdown",
   "id": "08caddc6-76db-4c7e-8c88-780b8ae36a87",
   "metadata": {},
   "source": [
    "What is Classes?"
   ]
  },
  {
   "cell_type": "markdown",
   "id": "a5537502-89fe-4829-9161-1aa15dc66276",
   "metadata": {},
   "source": [
    "CLass is a blueprint of object, or overall define about object"
   ]
  },
  {
   "cell_type": "code",
   "execution_count": 1,
   "id": "d4314774-cb8a-4a9f-9f71-4b70f4c1b5e8",
   "metadata": {},
   "outputs": [],
   "source": [
    "class test:\n",
    "    pass"
   ]
  },
  {
   "cell_type": "code",
   "execution_count": 2,
   "id": "547539dc-16d0-49a6-b931-3e54049d6d54",
   "metadata": {},
   "outputs": [],
   "source": [
    "a=test()"
   ]
  },
  {
   "cell_type": "code",
   "execution_count": 3,
   "id": "6368b21b-cd01-4f63-9a86-3c6bdbde9544",
   "metadata": {},
   "outputs": [
    {
     "data": {
      "text/plain": [
       "__main__.test"
      ]
     },
     "execution_count": 3,
     "metadata": {},
     "output_type": "execute_result"
    }
   ],
   "source": [
    "type(a)"
   ]
  },
  {
   "cell_type": "code",
   "execution_count": 4,
   "id": "712fd2a2-d1bc-4e58-a9ae-732adee05753",
   "metadata": {},
   "outputs": [
    {
     "name": "stdout",
     "output_type": "stream",
     "text": [
      "<class '__main__.test'>\n"
     ]
    }
   ],
   "source": [
    "print(type(a))"
   ]
  },
  {
   "cell_type": "code",
   "execution_count": 10,
   "id": "1a40208e-2fd7-43cf-b85e-dd3c2c489689",
   "metadata": {},
   "outputs": [],
   "source": [
    "class joker:\n",
    "    def welcome_msg(self):\n",
    "        print(\"welcome to JkR\")"
   ]
  },
  {
   "cell_type": "code",
   "execution_count": 11,
   "id": "7efc4003-bc44-4c2c-8cc4-d1d42fa7a6b2",
   "metadata": {},
   "outputs": [],
   "source": [
    "nah = joker()"
   ]
  },
  {
   "cell_type": "code",
   "execution_count": 12,
   "id": "e7347f70-e654-437e-affd-f3151defd23e",
   "metadata": {},
   "outputs": [
    {
     "data": {
      "text/plain": [
       "__main__.joker"
      ]
     },
     "execution_count": 12,
     "metadata": {},
     "output_type": "execute_result"
    }
   ],
   "source": [
    "type(nah)"
   ]
  },
  {
   "cell_type": "code",
   "execution_count": 13,
   "id": "3f30f794-33ff-4f65-97c0-53770772474a",
   "metadata": {},
   "outputs": [
    {
     "name": "stdout",
     "output_type": "stream",
     "text": [
      "welcome to JkR\n"
     ]
    }
   ],
   "source": [
    "nah.welcome_msg()"
   ]
  },
  {
   "cell_type": "code",
   "execution_count": 15,
   "id": "e0372a3d-c8d9-4dcd-957d-96291be7d8df",
   "metadata": {},
   "outputs": [],
   "source": [
    "class tiger:\n",
    "    def __init__(self, phone_number, email_id, student_id):\n",
    "        self.phone_number=phone_number\n",
    "        self.email_id=email_id\n",
    "        self.student_id=student_id\n",
    "\n",
    "    def return_detail(self):\n",
    "        return self.student_id,self.phone_number,self.email_id"
   ]
  },
  {
   "cell_type": "code",
   "execution_count": 20,
   "id": "ed2b47ce-ee08-411e-bc20-40ec8d58f435",
   "metadata": {},
   "outputs": [],
   "source": [
    "joke=tiger(7983167608,\"guptahrsh@gmail.com\",222)"
   ]
  },
  {
   "cell_type": "code",
   "execution_count": 25,
   "id": "b242d360-f545-49d8-bbd7-fa8885b2e679",
   "metadata": {},
   "outputs": [],
   "source": [
    "id, num, mail=joke.return_detail()"
   ]
  },
  {
   "cell_type": "code",
   "execution_count": 26,
   "id": "23269deb-ca48-42cb-b0eb-330deb097443",
   "metadata": {},
   "outputs": [
    {
     "name": "stdout",
     "output_type": "stream",
     "text": [
      "222\n",
      "7983167608\n",
      "guptahrsh@gmail.com\n"
     ]
    }
   ],
   "source": [
    "print(id)\n",
    "print(num)\n",
    "print(mail)"
   ]
  },
  {
   "cell_type": "code",
   "execution_count": 27,
   "id": "1e6bf9b4-e1b4-46f3-b019-0358918ae8dc",
   "metadata": {},
   "outputs": [],
   "source": [
    "class tiger1:\n",
    "    def __init__(self, phone_number, email_id, student_id):\n",
    "        self.phone_number1=phone_number\n",
    "        self.email_id1=email_id\n",
    "        self.student_id1=student_id\n",
    "\n",
    "    def return_detail(self):\n",
    "        return self.student_id1,self.phone_number1,self.email_id1"
   ]
  },
  {
   "cell_type": "code",
   "execution_count": 37,
   "id": "96913a00-83e4-4d27-8b9f-8731334a4361",
   "metadata": {},
   "outputs": [],
   "source": [
    "Krishna=tiger1(8171565003,\"Krishna@gmail.com\",111)"
   ]
  },
  {
   "cell_type": "code",
   "execution_count": 38,
   "id": "7d3b8471-e987-4717-a319-65b86dc587ad",
   "metadata": {},
   "outputs": [
    {
     "ename": "AttributeError",
     "evalue": "'tiger1' object has no attribute 'phone_number'",
     "output_type": "error",
     "traceback": [
      "\u001b[1;31m---------------------------------------------------------------------------\u001b[0m",
      "\u001b[1;31mAttributeError\u001b[0m                            Traceback (most recent call last)",
      "Cell \u001b[1;32mIn[38], line 1\u001b[0m\n\u001b[1;32m----> 1\u001b[0m \u001b[43mKrishna\u001b[49m\u001b[38;5;241;43m.\u001b[39;49m\u001b[43mphone_number\u001b[49m\n",
      "\u001b[1;31mAttributeError\u001b[0m: 'tiger1' object has no attribute 'phone_number'"
     ]
    }
   ],
   "source": [
    "Krishna.phone_number"
   ]
  },
  {
   "cell_type": "code",
   "execution_count": 32,
   "id": "824b3a15-c503-4105-9cd6-942f3c00ea55",
   "metadata": {},
   "outputs": [],
   "source": [
    "class tiger2:\n",
    "    def __init__(harsh, phone_number, email_id, student_id):\n",
    "        harsh.phone_number1=phone_number\n",
    "        harsh.email_id1=email_id\n",
    "        harsh.student_id1=student_id\n",
    "\n",
    "    def return_detail(self):\n",
    "        return harsh.student_id1,harsh.phone_number1,harsh.email_id1"
   ]
  },
  {
   "cell_type": "code",
   "execution_count": 33,
   "id": "0bbc33d5-8d5f-41ac-a464-671f2c39276c",
   "metadata": {},
   "outputs": [],
   "source": [
    "yash=tiger2(7897897897,\"yash@gmail.com\", 101)"
   ]
  },
  {
   "cell_type": "code",
   "execution_count": 34,
   "id": "5fbfb7a4-254c-4cc4-af88-5be99681eb65",
   "metadata": {},
   "outputs": [
    {
     "ename": "AttributeError",
     "evalue": "'tiger2' object has no attribute 'phone_number'",
     "output_type": "error",
     "traceback": [
      "\u001b[1;31m---------------------------------------------------------------------------\u001b[0m",
      "\u001b[1;31mAttributeError\u001b[0m                            Traceback (most recent call last)",
      "Cell \u001b[1;32mIn[34], line 1\u001b[0m\n\u001b[1;32m----> 1\u001b[0m \u001b[43myash\u001b[49m\u001b[38;5;241;43m.\u001b[39;49m\u001b[43mphone_number\u001b[49m\n",
      "\u001b[1;31mAttributeError\u001b[0m: 'tiger2' object has no attribute 'phone_number'"
     ]
    }
   ],
   "source": [
    "yash.phone_number"
   ]
  },
  {
   "cell_type": "code",
   "execution_count": 35,
   "id": "9e78f3af-73af-4b98-b7e3-834c598a8273",
   "metadata": {},
   "outputs": [
    {
     "data": {
      "text/plain": [
       "7897897897"
      ]
     },
     "execution_count": 35,
     "metadata": {},
     "output_type": "execute_result"
    }
   ],
   "source": [
    "yash.phone_number1"
   ]
  },
  {
   "cell_type": "code",
   "execution_count": null,
   "id": "d2d88973-368a-4b22-9631-56552cdd0139",
   "metadata": {},
   "outputs": [],
   "source": []
  }
 ],
 "metadata": {
  "kernelspec": {
   "display_name": "Python 3 (ipykernel)",
   "language": "python",
   "name": "python3"
  },
  "language_info": {
   "codemirror_mode": {
    "name": "ipython",
    "version": 3
   },
   "file_extension": ".py",
   "mimetype": "text/x-python",
   "name": "python",
   "nbconvert_exporter": "python",
   "pygments_lexer": "ipython3",
   "version": "3.12.1"
  }
 },
 "nbformat": 4,
 "nbformat_minor": 5
}
