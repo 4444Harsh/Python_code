{
 "cells": [
  {
   "cell_type": "markdown",
   "id": "9c526780-0564-4e0e-acab-5db4cd7e43aa",
   "metadata": {},
   "source": [
    "# Polymorphism"
   ]
  },
  {
   "cell_type": "markdown",
   "id": "01d969b3-2bb6-4b28-9f2a-2cc76301aeb1",
   "metadata": {},
   "source": [
    "polymorphism is the use of one symbol to represent multiple different types. In object-oriented programming, polymorphism is the provision of one interface to entities of different data types. "
   ]
  },
  {
   "cell_type": "code",
   "execution_count": 2,
   "id": "ca9da5fc-6089-467a-b60b-fc1d62bda354",
   "metadata": {},
   "outputs": [],
   "source": [
    "def test(a,b):\n",
    "    return a+b"
   ]
  },
  {
   "cell_type": "code",
   "execution_count": 3,
   "id": "2eb61c3b-f4e4-4448-9496-207eb1d0dd19",
   "metadata": {},
   "outputs": [
    {
     "data": {
      "text/plain": [
       "15"
      ]
     },
     "execution_count": 3,
     "metadata": {},
     "output_type": "execute_result"
    }
   ],
   "source": [
    "test(12,3)"
   ]
  },
  {
   "cell_type": "code",
   "execution_count": 4,
   "id": "6fe1ec5c-3a76-49b4-b18d-1ff593adc6de",
   "metadata": {},
   "outputs": [
    {
     "data": {
      "text/plain": [
       "'harsh gupta'"
      ]
     },
     "execution_count": 4,
     "metadata": {},
     "output_type": "execute_result"
    }
   ],
   "source": [
    "test(\"harsh\",\" gupta\")"
   ]
  },
  {
   "cell_type": "code",
   "execution_count": 5,
   "id": "57aad1b3-ca96-4b01-beb3-5f27ccd28ac2",
   "metadata": {},
   "outputs": [
    {
     "data": {
      "text/plain": [
       "246.1"
      ]
     },
     "execution_count": 5,
     "metadata": {},
     "output_type": "execute_result"
    }
   ],
   "source": [
    "test(12.0,234.1)"
   ]
  },
  {
   "cell_type": "code",
   "execution_count": 6,
   "id": "95f6d937-8e69-4ef2-82f0-71a603f215b8",
   "metadata": {},
   "outputs": [
    {
     "data": {
      "text/plain": [
       "13.2"
      ]
     },
     "execution_count": 6,
     "metadata": {},
     "output_type": "execute_result"
    }
   ],
   "source": [
    "test(12.2,1)"
   ]
  },
  {
   "cell_type": "code",
   "execution_count": 7,
   "id": "5aa00ec4-a631-4861-b9cd-16c617b7c330",
   "metadata": {},
   "outputs": [
    {
     "data": {
      "text/plain": [
       "[12, 23, 1, 2, 4]"
      ]
     },
     "execution_count": 7,
     "metadata": {},
     "output_type": "execute_result"
    }
   ],
   "source": [
    "test([12,23,],[1,2,4])"
   ]
  },
  {
   "cell_type": "code",
   "execution_count": 8,
   "id": "4e79c88c-174b-4770-9e72-30ddcd202593",
   "metadata": {},
   "outputs": [],
   "source": [
    "class ds:\n",
    "    def syllabus(self):\n",
    "        print(\"That is syllabus of Machine Learning just kidding Data Science\")"
   ]
  },
  {
   "cell_type": "code",
   "execution_count": 9,
   "id": "20198c52-8cb5-4fe2-ae00-6944c6e21415",
   "metadata": {},
   "outputs": [],
   "source": [
    "class WD:\n",
    "    def syllabus(self):\n",
    "        print(\"Syllabus Web dev\")"
   ]
  },
  {
   "cell_type": "code",
   "execution_count": 10,
   "id": "4ec0fef6-bdb9-4773-bff2-9eb6bb6cc32a",
   "metadata": {},
   "outputs": [],
   "source": [
    "data=ds()"
   ]
  },
  {
   "cell_type": "code",
   "execution_count": 11,
   "id": "94e67ca9-13ff-486e-9116-a00dd40e079e",
   "metadata": {},
   "outputs": [],
   "source": [
    "web=WD()"
   ]
  },
  {
   "cell_type": "code",
   "execution_count": 15,
   "id": "e41dbd46-57e7-480a-8ad0-6d2c22ed323c",
   "metadata": {},
   "outputs": [],
   "source": [
    "class_obj=[data,web]"
   ]
  },
  {
   "cell_type": "code",
   "execution_count": 16,
   "id": "16fe85d4-0b84-476b-a81c-ef4e4129c836",
   "metadata": {},
   "outputs": [],
   "source": [
    "def class_parcer(class_obj):\n",
    "    for i in class_obj:\n",
    "        i.syllabus()"
   ]
  },
  {
   "cell_type": "code",
   "execution_count": 17,
   "id": "daed5754-5c12-44e3-9d6d-300f7505738b",
   "metadata": {},
   "outputs": [
    {
     "name": "stdout",
     "output_type": "stream",
     "text": [
      "That is syllabus of Machine Learning just kidding Data Science\n",
      "Syllabus Web dev\n"
     ]
    }
   ],
   "source": [
    "class_parcer(class_obj)"
   ]
  },
  {
   "cell_type": "code",
   "execution_count": null,
   "id": "ac5668c0-a4da-413e-8a85-0a47585185c9",
   "metadata": {},
   "outputs": [],
   "source": []
  }
 ],
 "metadata": {
  "kernelspec": {
   "display_name": "Python 3 (ipykernel)",
   "language": "python",
   "name": "python3"
  },
  "language_info": {
   "codemirror_mode": {
    "name": "ipython",
    "version": 3
   },
   "file_extension": ".py",
   "mimetype": "text/x-python",
   "name": "python",
   "nbconvert_exporter": "python",
   "pygments_lexer": "ipython3",
   "version": "3.12.1"
  }
 },
 "nbformat": 4,
 "nbformat_minor": 5
}
