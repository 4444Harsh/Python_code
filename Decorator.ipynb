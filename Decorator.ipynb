{
 "cells": [
  {
   "cell_type": "code",
   "execution_count": 1,
   "id": "2e422874-03dc-4732-aa85-40568f962f36",
   "metadata": {},
   "outputs": [],
   "source": [
    "def test():\n",
    "    print(\"This is my staart of my test function\")\n",
    "    print(\"This is my testing of test function\")\n",
    "    print(7+8)\n",
    "    print(\"end of function\")"
   ]
  },
  {
   "cell_type": "code",
   "execution_count": 2,
   "id": "5e7a2780-7e25-4433-8b43-b1da254e985e",
   "metadata": {},
   "outputs": [
    {
     "name": "stdout",
     "output_type": "stream",
     "text": [
      "This is my staart of my test function\n",
      "This is my testing of test function\n",
      "15\n",
      "end of function\n"
     ]
    }
   ],
   "source": [
    "test()"
   ]
  },
  {
   "cell_type": "code",
   "execution_count": 4,
   "id": "c82f9380-7ff2-460a-9b3b-c2eb4e32d666",
   "metadata": {},
   "outputs": [],
   "source": [
    "def deco(func):\n",
    "    def inner_dec():\n",
    "        print(\"THis is my start of my function\")\n",
    "        func()\n",
    "        print(\"This is my end of func\")\n",
    "    return inner_dec"
   ]
  },
  {
   "cell_type": "code",
   "execution_count": 5,
   "id": "09900908-473b-48e4-807d-293415319997",
   "metadata": {},
   "outputs": [],
   "source": [
    "@deco\n",
    "def test1():\n",
    "    print(9+8)"
   ]
  },
  {
   "cell_type": "code",
   "execution_count": 6,
   "id": "582c35a2-a270-46d8-9396-cdc42029f18d",
   "metadata": {},
   "outputs": [
    {
     "name": "stdout",
     "output_type": "stream",
     "text": [
      "THis is my start of my function\n",
      "17\n",
      "This is my end of func\n"
     ]
    }
   ],
   "source": [
    "test1()"
   ]
  },
  {
   "cell_type": "code",
   "execution_count": 8,
   "id": "5db12127-0c6d-4ba6-8601-25cde7f562d1",
   "metadata": {},
   "outputs": [],
   "source": [
    "import time\n",
    "\n",
    "def timer_test(func):\n",
    "    def timer_inner_test():\n",
    "        start=time.time()\n",
    "        func()\n",
    "        end =time.time()\n",
    "        print(end -start)\n",
    "    return timer_inner_test"
   ]
  },
  {
   "cell_type": "code",
   "execution_count": 9,
   "id": "edc5922a-3f29-46f2-9b6f-9d14e733d82a",
   "metadata": {},
   "outputs": [],
   "source": [
    "@timer_test\n",
    "def test2():\n",
    "    print(465+879)"
   ]
  },
  {
   "cell_type": "code",
   "execution_count": 10,
   "id": "4a157098-b815-40bc-beb2-3b7a6ad76e03",
   "metadata": {},
   "outputs": [
    {
     "name": "stdout",
     "output_type": "stream",
     "text": [
      "1344\n",
      "0.0010156631469726562\n"
     ]
    }
   ],
   "source": [
    "test2()"
   ]
  },
  {
   "cell_type": "code",
   "execution_count": 15,
   "id": "a18d60b0-6e8a-4320-ac9c-402ed1ebe04d",
   "metadata": {},
   "outputs": [],
   "source": [
    "@timer_test\n",
    "def test3():\n",
    "    for i in range(100000000):\n",
    "        pass"
   ]
  },
  {
   "cell_type": "code",
   "execution_count": 16,
   "id": "ef0a7031-f5f4-4a70-85f8-7f9f8625ce5e",
   "metadata": {},
   "outputs": [
    {
     "name": "stdout",
     "output_type": "stream",
     "text": [
      "3.5470778942108154\n"
     ]
    }
   ],
   "source": [
    "test3()"
   ]
  },
  {
   "cell_type": "code",
   "execution_count": null,
   "id": "6f105599-99b9-4b94-a96a-4cafb11e411b",
   "metadata": {},
   "outputs": [],
   "source": []
  }
 ],
 "metadata": {
  "kernelspec": {
   "display_name": "Python 3 (ipykernel)",
   "language": "python",
   "name": "python3"
  },
  "language_info": {
   "codemirror_mode": {
    "name": "ipython",
    "version": 3
   },
   "file_extension": ".py",
   "mimetype": "text/x-python",
   "name": "python",
   "nbconvert_exporter": "python",
   "pygments_lexer": "ipython3",
   "version": "3.12.1"
  }
 },
 "nbformat": 4,
 "nbformat_minor": 5
}
