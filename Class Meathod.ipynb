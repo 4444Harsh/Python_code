{
 "cells": [
  {
   "cell_type": "code",
   "execution_count": 1,
   "id": "a645a669-525d-4205-9372-9001d3ec87b3",
   "metadata": {},
   "outputs": [],
   "source": [
    "class pwskills :\n",
    "    def __init__(self , name, email):\n",
    "        self.name=name\n",
    "        self.email=email\n",
    "    def students_details(self):\n",
    "        print(self.name,self.email)"
   ]
  },
  {
   "cell_type": "code",
   "execution_count": 2,
   "id": "9e2b6c99-9037-43d4-b762-b892bd554a17",
   "metadata": {},
   "outputs": [],
   "source": [
    "pw=pwskills(\"Harsh\",\"MOhan@gmail.com\")"
   ]
  },
  {
   "cell_type": "code",
   "execution_count": 4,
   "id": "b37afbb9-7322-4217-816b-f01260042400",
   "metadata": {},
   "outputs": [
    {
     "data": {
      "text/plain": [
       "'Harsh'"
      ]
     },
     "execution_count": 4,
     "metadata": {},
     "output_type": "execute_result"
    }
   ],
   "source": [
    "pw.name"
   ]
  },
  {
   "cell_type": "code",
   "execution_count": 5,
   "id": "2485fcf6-174d-48ca-810f-10d1366d998a",
   "metadata": {},
   "outputs": [
    {
     "data": {
      "text/plain": [
       "'MOhan@gmail.com'"
      ]
     },
     "execution_count": 5,
     "metadata": {},
     "output_type": "execute_result"
    }
   ],
   "source": [
    "pw.email"
   ]
  },
  {
   "cell_type": "code",
   "execution_count": 8,
   "id": "8362fa53-7c48-45d3-b202-7828ca1d9ee9",
   "metadata": {},
   "outputs": [
    {
     "name": "stdout",
     "output_type": "stream",
     "text": [
      "Harsh MOhan@gmail.com\n"
     ]
    }
   ],
   "source": [
    "pw.students_details()"
   ]
  },
  {
   "cell_type": "code",
   "execution_count": 9,
   "id": "019aa523-bb41-49fb-bc02-2ef1e79e5351",
   "metadata": {},
   "outputs": [],
   "source": [
    "class pwskills1 :\n",
    "    def __init__(self , name, email):\n",
    "        self.name=name\n",
    "        self.email=email\n",
    "\n",
    "    @classmethod\n",
    "    def details(cls,name ,email):\n",
    "        return cls(name,email)\n",
    "        \n",
    "    def students_details(self):\n",
    "        print(self.name,self.email)"
   ]
  },
  {
   "cell_type": "markdown",
   "id": "5fb07b95-9765-4847-8bf2-9b098ae3b18e",
   "metadata": {},
   "source": [
    "there not creating an object of class and declared name and email and access it.\n",
    "init meathod ko overload kardiya even without creating an object"
   ]
  },
  {
   "cell_type": "code",
   "execution_count": 11,
   "id": "ef82b349-45db-47ad-8143-a0ec28f3d77c",
   "metadata": {},
   "outputs": [
    {
     "data": {
      "text/plain": [
       "<__main__.pwskills1 at 0x164f05f7b30>"
      ]
     },
     "execution_count": 11,
     "metadata": {},
     "output_type": "execute_result"
    }
   ],
   "source": [
    "pwskills1.details(\"harsh\",\"guptaharsh@gmail.com\")"
   ]
  },
  {
   "cell_type": "code",
   "execution_count": 12,
   "id": "f06927f3-4287-470a-b8e0-e168f66a0c53",
   "metadata": {},
   "outputs": [],
   "source": [
    "pw1=pwskills1.details(\"harsh\",\"guptaharsh@gmail.com\")"
   ]
  },
  {
   "cell_type": "code",
   "execution_count": 13,
   "id": "92c4d296-af95-4154-9d48-5b1d4b78818c",
   "metadata": {},
   "outputs": [
    {
     "data": {
      "text/plain": [
       "'harsh'"
      ]
     },
     "execution_count": 13,
     "metadata": {},
     "output_type": "execute_result"
    }
   ],
   "source": [
    "pw1.name"
   ]
  },
  {
   "cell_type": "code",
   "execution_count": 14,
   "id": "5f58a226-0d3a-4ee5-a39a-f27415950936",
   "metadata": {},
   "outputs": [
    {
     "data": {
      "text/plain": [
       "'guptaharsh@gmail.com'"
      ]
     },
     "execution_count": 14,
     "metadata": {},
     "output_type": "execute_result"
    }
   ],
   "source": [
    "pw1.email"
   ]
  },
  {
   "cell_type": "code",
   "execution_count": 17,
   "id": "978d1e68-7ed2-4cf6-8bb1-89d183f8912d",
   "metadata": {},
   "outputs": [],
   "source": [
    "class pwskills2 :\n",
    "    mobile_number=798642356 #class Variable\n",
    "    \n",
    "    def __init__(self , name, email):\n",
    "        self.name=name\n",
    "        self.email=email\n",
    "\n",
    "    @classmethod\n",
    "    def details(cls,name ,email):\n",
    "        return cls(name,email)\n",
    "        \n",
    "    def students_details(self):\n",
    "        print(self.name,self.email)"
   ]
  },
  {
   "cell_type": "markdown",
   "id": "352b8110-fd12-413a-98ac-a8b6880c3d63",
   "metadata": {},
   "source": [
    "without even creating an object we able to access this particular variable"
   ]
  },
  {
   "cell_type": "code",
   "execution_count": 16,
   "id": "5cabf77a-eb0c-4142-a227-46ccbaa1d7a6",
   "metadata": {},
   "outputs": [
    {
     "data": {
      "text/plain": [
       "798642356"
      ]
     },
     "execution_count": 16,
     "metadata": {},
     "output_type": "execute_result"
    }
   ],
   "source": [
    "pwskills2.mobile_number"
   ]
  },
  {
   "cell_type": "markdown",
   "id": "57a73b83-66b9-438b-8532-eb957c85dac6",
   "metadata": {},
   "source": [
    "changing the mobile number"
   ]
  },
  {
   "cell_type": "code",
   "execution_count": 35,
   "id": "71da3497-28ea-486c-99de-846013f938d1",
   "metadata": {},
   "outputs": [],
   "source": [
    "class pwskill2 :\n",
    "    mobile_number=798642356 #class Variable\n",
    "    \n",
    "    def __init__(self , name, email):\n",
    "        self.name=name\n",
    "        self.email=email\n",
    "\n",
    "    @classmethod\n",
    "    def change_number(cls,mobile):\n",
    "        pwskill2.mobile_number=mobile\n",
    "        \n",
    "    @classmethod\n",
    "    def details(cls,name ,email):\n",
    "        return cls(name,email)\n",
    "        \n",
    "    def students_details(self):\n",
    "        print(self.name,self.email,pwskill2.mobile_number)"
   ]
  },
  {
   "cell_type": "code",
   "execution_count": 30,
   "id": "42d456be-fd3a-415b-8312-a5fbd26bf6fc",
   "metadata": {},
   "outputs": [
    {
     "data": {
      "text/plain": [
       "24456789"
      ]
     },
     "execution_count": 30,
     "metadata": {},
     "output_type": "execute_result"
    }
   ],
   "source": [
    "pwskill2.mobile_number"
   ]
  },
  {
   "cell_type": "code",
   "execution_count": 32,
   "id": "1bef40a1-f641-4d25-baef-aa17e647f89e",
   "metadata": {},
   "outputs": [],
   "source": [
    "pwskill2.change_number(24456789)"
   ]
  },
  {
   "cell_type": "code",
   "execution_count": 34,
   "id": "69c64b41-b7d8-46c4-8158-4bb7ab3246fb",
   "metadata": {},
   "outputs": [
    {
     "data": {
      "text/plain": [
       "24456789"
      ]
     },
     "execution_count": 34,
     "metadata": {},
     "output_type": "execute_result"
    }
   ],
   "source": [
    "pwskill2.mobile_number"
   ]
  },
  {
   "cell_type": "code",
   "execution_count": 36,
   "id": "f96ffadd-e029-4dca-9884-414d33f7bc2f",
   "metadata": {},
   "outputs": [],
   "source": [
    "pw_obj=pwskill2(\"joker\",\"joker@gmail.com\")"
   ]
  },
  {
   "cell_type": "code",
   "execution_count": 37,
   "id": "c9f5de4a-a695-473d-b585-15ddaabe74dc",
   "metadata": {},
   "outputs": [
    {
     "name": "stdout",
     "output_type": "stream",
     "text": [
      "joker joker@gmail.com 798642356\n"
     ]
    }
   ],
   "source": [
    "pw_obj.students_details()"
   ]
  },
  {
   "cell_type": "code",
   "execution_count": 39,
   "id": "c116041c-9d02-4cb5-ba78-8609f9700760",
   "metadata": {},
   "outputs": [],
   "source": [
    "pw21=pwskill2.details(\"rohan\",\"rohan@gmial.com\")"
   ]
  },
  {
   "cell_type": "code",
   "execution_count": 40,
   "id": "1d7e958b-e05f-47d5-af7e-4ed43d6230e0",
   "metadata": {},
   "outputs": [
    {
     "data": {
      "text/plain": [
       "798642356"
      ]
     },
     "execution_count": 40,
     "metadata": {},
     "output_type": "execute_result"
    }
   ],
   "source": [
    "pw21.mobile_number"
   ]
  },
  {
   "cell_type": "markdown",
   "id": "f781fa46-6ebd-4eaa-89f4-b6d885aca650",
   "metadata": {},
   "source": [
    "creating a extrernal function and add to as a class meathod "
   ]
  },
  {
   "cell_type": "code",
   "execution_count": 47,
   "id": "a01dba95-0d24-40b2-92d2-9e498584629d",
   "metadata": {},
   "outputs": [],
   "source": [
    "class pwskill3 :\n",
    "    mobile_number=798642356 #class Variable\n",
    "    \n",
    "    def __init__(self , name, email):\n",
    "        self.name=name\n",
    "        self.email=email\n",
    "\n",
    "    @classmethod\n",
    "    def change_number(cls,mobile):\n",
    "        pwskill2.mobile_number=mobile\n",
    "        \n",
    "    @classmethod\n",
    "    def details(cls,name ,email):\n",
    "        return cls(name,email)\n",
    "        \n",
    "    def students_details(self):\n",
    "        print(self.name,self.email,pwskill2.mobile_number)"
   ]
  },
  {
   "cell_type": "code",
   "execution_count": 48,
   "id": "0728456a-242b-462d-82b2-db90dbd74fdb",
   "metadata": {},
   "outputs": [],
   "source": [
    "def course_detail(cls,course):\n",
    "    print(\"Course name is \", course)"
   ]
  },
  {
   "cell_type": "code",
   "execution_count": 49,
   "id": "ab0da372-b5b9-4186-b6b1-fa41d28125ba",
   "metadata": {},
   "outputs": [
    {
     "ename": "AttributeError",
     "evalue": "type object 'pwskill3' has no attribute 'course_deatil'",
     "output_type": "error",
     "traceback": [
      "\u001b[1;31m---------------------------------------------------------------------------\u001b[0m",
      "\u001b[1;31mAttributeError\u001b[0m                            Traceback (most recent call last)",
      "Cell \u001b[1;32mIn[49], line 1\u001b[0m\n\u001b[1;32m----> 1\u001b[0m \u001b[43mpwskill3\u001b[49m\u001b[38;5;241;43m.\u001b[39;49m\u001b[43mcourse_deatil\u001b[49m(\u001b[38;5;124m\"\u001b[39m\u001b[38;5;124mB.tech\u001b[39m\u001b[38;5;124m\"\u001b[39m)\n",
      "\u001b[1;31mAttributeError\u001b[0m: type object 'pwskill3' has no attribute 'course_deatil'"
     ]
    }
   ],
   "source": [
    "pwskill3.course_deatil(\"B.tech\")"
   ]
  },
  {
   "cell_type": "code",
   "execution_count": 50,
   "id": "16977670-a7e1-43d0-a1f3-f318ef064820",
   "metadata": {},
   "outputs": [],
   "source": [
    "pwskill3.course_detail=classmethod(course_detail)"
   ]
  },
  {
   "cell_type": "code",
   "execution_count": 52,
   "id": "81464d33-d178-418a-badc-c5307dac0d28",
   "metadata": {},
   "outputs": [
    {
     "name": "stdout",
     "output_type": "stream",
     "text": [
      "Course name is  Data Science masters\n"
     ]
    }
   ],
   "source": [
    "pwskill3.course_detail(\"Data Science masters\")"
   ]
  },
  {
   "cell_type": "code",
   "execution_count": 53,
   "id": "f6cfd57a-e574-4072-b124-7f80b04c783d",
   "metadata": {},
   "outputs": [],
   "source": [
    "def mentors(cls,list_of_mentor):\n",
    "    print(list_of_mentor)"
   ]
  },
  {
   "cell_type": "code",
   "execution_count": 54,
   "id": "7a51b8c9-0a19-4c64-9401-454f777fdbb1",
   "metadata": {},
   "outputs": [],
   "source": [
    "pwskill3.mentors=classmethod(mentors)"
   ]
  },
  {
   "cell_type": "code",
   "execution_count": 55,
   "id": "28287aeb-8d4d-49d1-a087-c5f7195f9c2e",
   "metadata": {},
   "outputs": [
    {
     "name": "stdout",
     "output_type": "stream",
     "text": [
      "['himanshu', 'ristesh', 'krish Naik']\n"
     ]
    }
   ],
   "source": [
    "pwskill3.mentors([\"himanshu\",\"ristesh\",\"krish Naik\"])"
   ]
  },
  {
   "cell_type": "markdown",
   "id": "b980cb7f-a8bf-46c2-a6b8-d2f62e0109b7",
   "metadata": {},
   "source": [
    "deleteing the meathod of class"
   ]
  },
  {
   "cell_type": "code",
   "execution_count": 56,
   "id": "637724cb-93a0-474e-9596-2078c1075641",
   "metadata": {},
   "outputs": [],
   "source": [
    "class pwskill4 :\n",
    "    mobile_number=798642356 #class Variable\n",
    "    \n",
    "    def __init__(self , name, email):\n",
    "        self.name=name\n",
    "        self.email=email\n",
    "\n",
    "    @classmethod\n",
    "    def change_number(cls,mobile):\n",
    "        pwskill2.mobile_number=mobile\n",
    "        \n",
    "    @classmethod\n",
    "    def details(cls,name ,email):\n",
    "        return cls(name,email)\n",
    "        \n",
    "    def students_details(self):\n",
    "        print(self.name,self.email,pwskill2.mobile_number)"
   ]
  },
  {
   "cell_type": "code",
   "execution_count": 59,
   "id": "3f051cbf-1249-4a11-b2f1-f65e7b9ef91b",
   "metadata": {},
   "outputs": [],
   "source": [
    "del pwskill4.change_number"
   ]
  },
  {
   "cell_type": "code",
   "execution_count": 60,
   "id": "b9c21d90-08f6-4fc4-b562-fbd70509e5c4",
   "metadata": {},
   "outputs": [
    {
     "ename": "AttributeError",
     "evalue": "type object 'pwskill4' has no attribute 'change_number'",
     "output_type": "error",
     "traceback": [
      "\u001b[1;31m---------------------------------------------------------------------------\u001b[0m",
      "\u001b[1;31mAttributeError\u001b[0m                            Traceback (most recent call last)",
      "Cell \u001b[1;32mIn[60], line 1\u001b[0m\n\u001b[1;32m----> 1\u001b[0m \u001b[43mpwskill4\u001b[49m\u001b[38;5;241;43m.\u001b[39;49m\u001b[43mchange_number\u001b[49m(\u001b[38;5;241m12346789\u001b[39m)\n",
      "\u001b[1;31mAttributeError\u001b[0m: type object 'pwskill4' has no attribute 'change_number'"
     ]
    }
   ],
   "source": [
    "pwskill4.change_number(12346789)"
   ]
  },
  {
   "cell_type": "code",
   "execution_count": 61,
   "id": "9ff0e327-2dad-49d1-a516-da13680d99f2",
   "metadata": {},
   "outputs": [],
   "source": [
    "delattr(pwskill4,\"details\")"
   ]
  },
  {
   "cell_type": "code",
   "execution_count": 63,
   "id": "debc6292-d09e-49da-bcbf-15f15bd0f785",
   "metadata": {},
   "outputs": [
    {
     "ename": "AttributeError",
     "evalue": "type object 'pwskill4' has no attribute 'details'",
     "output_type": "error",
     "traceback": [
      "\u001b[1;31m---------------------------------------------------------------------------\u001b[0m",
      "\u001b[1;31mAttributeError\u001b[0m                            Traceback (most recent call last)",
      "Cell \u001b[1;32mIn[63], line 1\u001b[0m\n\u001b[1;32m----> 1\u001b[0m \u001b[43mpwskill4\u001b[49m\u001b[38;5;241;43m.\u001b[39;49m\u001b[43mdetails\u001b[49m(\u001b[38;5;124m\"\u001b[39m\u001b[38;5;124mharsh\u001b[39m\u001b[38;5;124m\"\u001b[39m,\u001b[38;5;124m\"\u001b[39m\u001b[38;5;124mlion@gmali.com\u001b[39m\u001b[38;5;124m\"\u001b[39m)\n",
      "\u001b[1;31mAttributeError\u001b[0m: type object 'pwskill4' has no attribute 'details'"
     ]
    }
   ],
   "source": [
    "pwskill4.details(\"harsh\",\"lion@gmali.com\")"
   ]
  },
  {
   "cell_type": "code",
   "execution_count": 66,
   "id": "5e1b74c7-b52f-42f2-85a4-1db4eb89089d",
   "metadata": {},
   "outputs": [],
   "source": [
    "delattr(pwskill4,\"students_details\")"
   ]
  },
  {
   "cell_type": "code",
   "execution_count": null,
   "id": "52856b08-ce33-4101-926b-20e83d0ca4ab",
   "metadata": {},
   "outputs": [],
   "source": [
    "pwskill4.student_details"
   ]
  }
 ],
 "metadata": {
  "kernelspec": {
   "display_name": "Python 3 (ipykernel)",
   "language": "python",
   "name": "python3"
  },
  "language_info": {
   "codemirror_mode": {
    "name": "ipython",
    "version": 3
   },
   "file_extension": ".py",
   "mimetype": "text/x-python",
   "name": "python",
   "nbconvert_exporter": "python",
   "pygments_lexer": "ipython3",
   "version": "3.12.1"
  }
 },
 "nbformat": 4,
 "nbformat_minor": 5
}
