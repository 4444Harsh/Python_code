{
 "cells": [
  {
   "cell_type": "code",
   "execution_count": 3,
   "id": "83eaadf0-d70a-4c27-8107-2489bda94a03",
   "metadata": {},
   "outputs": [],
   "source": [
    "class pwskills:\n",
    "    def __init__(self, course_price, course_name):\n",
    "        self.__course_price=course_price\n",
    "        self.course_name=course_name"
   ]
  },
  {
   "cell_type": "code",
   "execution_count": 4,
   "id": "967115c2-9ac8-4faf-9917-8e87ab264dba",
   "metadata": {},
   "outputs": [],
   "source": [
    "pw=pwskills(3500,\"data Science masters\")"
   ]
  },
  {
   "cell_type": "code",
   "execution_count": 6,
   "id": "d612d888-a4a3-4624-a699-c0f4a53cb507",
   "metadata": {},
   "outputs": [
    {
     "data": {
      "text/plain": [
       "'data Science masters'"
      ]
     },
     "execution_count": 6,
     "metadata": {},
     "output_type": "execute_result"
    }
   ],
   "source": [
    "pw.course_name"
   ]
  },
  {
   "cell_type": "code",
   "execution_count": 7,
   "id": "62800d3a-d2e8-4e9a-af1a-2b5d42571fb2",
   "metadata": {},
   "outputs": [
    {
     "ename": "AttributeError",
     "evalue": "'pwskills' object has no attribute '__course_price'",
     "output_type": "error",
     "traceback": [
      "\u001b[1;31m---------------------------------------------------------------------------\u001b[0m",
      "\u001b[1;31mAttributeError\u001b[0m                            Traceback (most recent call last)",
      "Cell \u001b[1;32mIn[7], line 1\u001b[0m\n\u001b[1;32m----> 1\u001b[0m \u001b[43mpw\u001b[49m\u001b[38;5;241;43m.\u001b[39;49m\u001b[43m__course_price\u001b[49m\n",
      "\u001b[1;31mAttributeError\u001b[0m: 'pwskills' object has no attribute '__course_price'"
     ]
    }
   ],
   "source": [
    "pw.__course_price"
   ]
  },
  {
   "cell_type": "code",
   "execution_count": 9,
   "id": "fbca8c06-f920-481d-aeb9-3cca79110061",
   "metadata": {},
   "outputs": [
    {
     "data": {
      "text/plain": [
       "3500"
      ]
     },
     "execution_count": 9,
     "metadata": {},
     "output_type": "execute_result"
    }
   ],
   "source": [
    "pw._pwskills__course_price"
   ]
  },
  {
   "cell_type": "code",
   "execution_count": 21,
   "id": "0149259f-737f-41b4-a1b2-8298c6b13189",
   "metadata": {},
   "outputs": [],
   "source": [
    "class pwskills1:\n",
    "    def __init__(self, course_price, course_name):\n",
    "        self.__course_price=course_price\n",
    "        self.course_name=course_name\n",
    "\n",
    "    @property\n",
    "    def course_price_access(self):\n",
    "        return self.__course_price\n",
    "    @course_price_access.setter\n",
    "    def course_price_set(self,price):\n",
    "        if price<= 3500:\n",
    "            pass\n",
    "        else:\n",
    "            self.__course_price=price\n",
    "\n",
    "    @course_price_access.deleter\n",
    "    def delete_course_price(self):\n",
    "        del self.__course_price"
   ]
  },
  {
   "cell_type": "code",
   "execution_count": 22,
   "id": "143abcdb-a6df-4908-8950-48da0ba89d78",
   "metadata": {},
   "outputs": [],
   "source": [
    "pw1=pwskills1(3500,\"Data Science Masters\")"
   ]
  },
  {
   "cell_type": "code",
   "execution_count": 23,
   "id": "26cb2e24-0ef1-467d-b881-f4f888c5082f",
   "metadata": {},
   "outputs": [
    {
     "data": {
      "text/plain": [
       "3500"
      ]
     },
     "execution_count": 23,
     "metadata": {},
     "output_type": "execute_result"
    }
   ],
   "source": [
    "pw1.course_price_access"
   ]
  },
  {
   "cell_type": "code",
   "execution_count": 24,
   "id": "9dd55138-0d34-47f6-9c1a-8eeadf594603",
   "metadata": {},
   "outputs": [],
   "source": [
    "pw1.course_price_set=4500"
   ]
  },
  {
   "cell_type": "code",
   "execution_count": 25,
   "id": "1fd60e9a-d56f-418d-9592-6a3235fbbc38",
   "metadata": {},
   "outputs": [
    {
     "data": {
      "text/plain": [
       "4500"
      ]
     },
     "execution_count": 25,
     "metadata": {},
     "output_type": "execute_result"
    }
   ],
   "source": [
    "pw1.course_price_access"
   ]
  },
  {
   "cell_type": "code",
   "execution_count": 26,
   "id": "48c2fad2-1e5b-4b90-a639-ef19137ebe33",
   "metadata": {},
   "outputs": [],
   "source": [
    "del pw1.delete_course_price"
   ]
  },
  {
   "cell_type": "code",
   "execution_count": 27,
   "id": "64814185-791f-4015-84f6-5afa0da9496e",
   "metadata": {},
   "outputs": [
    {
     "ename": "AttributeError",
     "evalue": "'pwskills1' object has no attribute '_pwskills1__course_price'",
     "output_type": "error",
     "traceback": [
      "\u001b[1;31m---------------------------------------------------------------------------\u001b[0m",
      "\u001b[1;31mAttributeError\u001b[0m                            Traceback (most recent call last)",
      "Cell \u001b[1;32mIn[27], line 1\u001b[0m\n\u001b[1;32m----> 1\u001b[0m \u001b[43mpw1\u001b[49m\u001b[38;5;241;43m.\u001b[39;49m\u001b[43mcourse_price_access\u001b[49m\n",
      "Cell \u001b[1;32mIn[21], line 8\u001b[0m, in \u001b[0;36mpwskills1.course_price_access\u001b[1;34m(self)\u001b[0m\n\u001b[0;32m      6\u001b[0m \u001b[38;5;129m@property\u001b[39m\n\u001b[0;32m      7\u001b[0m \u001b[38;5;28;01mdef\u001b[39;00m \u001b[38;5;21mcourse_price_access\u001b[39m(\u001b[38;5;28mself\u001b[39m):\n\u001b[1;32m----> 8\u001b[0m     \u001b[38;5;28;01mreturn\u001b[39;00m \u001b[38;5;28;43mself\u001b[39;49m\u001b[38;5;241;43m.\u001b[39;49m\u001b[43m__course_price\u001b[49m\n",
      "\u001b[1;31mAttributeError\u001b[0m: 'pwskills1' object has no attribute '_pwskills1__course_price'"
     ]
    }
   ],
   "source": [
    "pw1.course_price_access"
   ]
  },
  {
   "cell_type": "code",
   "execution_count": null,
   "id": "8aeb637b-3d2a-4d07-bae7-0079f8b82b39",
   "metadata": {},
   "outputs": [],
   "source": []
  }
 ],
 "metadata": {
  "kernelspec": {
   "display_name": "Python 3 (ipykernel)",
   "language": "python",
   "name": "python3"
  },
  "language_info": {
   "codemirror_mode": {
    "name": "ipython",
    "version": 3
   },
   "file_extension": ".py",
   "mimetype": "text/x-python",
   "name": "python",
   "nbconvert_exporter": "python",
   "pygments_lexer": "ipython3",
   "version": "3.12.1"
  }
 },
 "nbformat": 4,
 "nbformat_minor": 5
}
