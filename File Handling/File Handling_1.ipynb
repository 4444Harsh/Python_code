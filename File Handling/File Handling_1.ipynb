{
 "cells": [
  {
   "cell_type": "code",
   "execution_count": 33,
   "id": "35c12e12-e4e4-4d93-9b0f-651480f1a754",
   "metadata": {},
   "outputs": [],
   "source": [
    "f=open(\"test.txt\",'w')"
   ]
  },
  {
   "cell_type": "code",
   "execution_count": 34,
   "id": "59758d72-3301-4762-9f9f-5d81f299ff05",
   "metadata": {},
   "outputs": [
    {
     "data": {
      "text/plain": [
       "'D:\\\\New folder\\\\File handling'"
      ]
     },
     "execution_count": 34,
     "metadata": {},
     "output_type": "execute_result"
    }
   ],
   "source": [
    "pwd"
   ]
  },
  {
   "cell_type": "code",
   "execution_count": 35,
   "id": "5a92f54b-9786-4ece-9bcb-83578959c94c",
   "metadata": {},
   "outputs": [
    {
     "name": "stdout",
     "output_type": "stream",
     "text": [
      " Volume in drive D is Acer\n",
      " Volume Serial Number is 702A-5701\n",
      "\n",
      " Directory of D:\\New folder\\File handling\n",
      "\n",
      "15-06-2025  13:55    <DIR>          .\n",
      "15-06-2025  13:45    <DIR>          ..\n",
      "15-06-2025  13:45    <DIR>          .ipynb_checkpoints\n",
      "15-06-2025  13:56                 0 test.txt\n",
      "15-06-2025  13:55             9,531 Untitled.ipynb\n",
      "               2 File(s)          9,531 bytes\n",
      "               3 Dir(s)  128,274,571,264 bytes free\n"
     ]
    }
   ],
   "source": [
    "ls"
   ]
  },
  {
   "cell_type": "code",
   "execution_count": 36,
   "id": "e53081b1-008d-4edf-951e-27a74fe31eca",
   "metadata": {},
   "outputs": [
    {
     "data": {
      "text/plain": [
       "30"
      ]
     },
     "execution_count": 36,
     "metadata": {},
     "output_type": "execute_result"
    }
   ],
   "source": [
    "f.write(\"this is my first file to write\")"
   ]
  },
  {
   "cell_type": "code",
   "execution_count": 37,
   "id": "6da217b3-d56d-4e92-be27-93f258c83e4c",
   "metadata": {},
   "outputs": [],
   "source": [
    "f.close()"
   ]
  },
  {
   "cell_type": "code",
   "execution_count": 38,
   "id": "b2855315-e7e0-4d40-9b3e-08cc049205a4",
   "metadata": {},
   "outputs": [],
   "source": [
    "f=open(\"test.txt\",'w')"
   ]
  },
  {
   "cell_type": "code",
   "execution_count": 39,
   "id": "4c9f74f4-d3a6-4fab-9847-4ff5ea02171d",
   "metadata": {},
   "outputs": [
    {
     "data": {
      "text/plain": [
       "15"
      ]
     },
     "execution_count": 39,
     "metadata": {},
     "output_type": "execute_result"
    }
   ],
   "source": [
    "f.write(\"this is my file\")"
   ]
  },
  {
   "cell_type": "code",
   "execution_count": 40,
   "id": "bb52293d-97c9-45fc-adbf-9a9dbd14277c",
   "metadata": {},
   "outputs": [],
   "source": [
    "f.close()"
   ]
  },
  {
   "cell_type": "code",
   "execution_count": 41,
   "id": "51359c96-9d41-4b4a-b66d-749e156274be",
   "metadata": {},
   "outputs": [],
   "source": [
    "f=open(\"test.txt\",'a')"
   ]
  },
  {
   "cell_type": "code",
   "execution_count": 42,
   "id": "811a715f-b87c-4818-ac57-ecd5a5b52367",
   "metadata": {},
   "outputs": [
    {
     "data": {
      "text/plain": [
       "414"
      ]
     },
     "execution_count": 42,
     "metadata": {},
     "output_type": "execute_result"
    }
   ],
   "source": [
    "f.write(\"Data science is a multidisciplinary field that uses scientific methods, algorithms, and systems to extract knowledge and insights from data. It combines principles from computer science, statistics, mathematics, and domain expertise to analyze large amounts of data and solve problems in various domains. Essentially, data science helps businesses and organizations understand their data to make better decisions. \")"
   ]
  },
  {
   "cell_type": "code",
   "execution_count": 43,
   "id": "5591e40d-d49c-43cc-9109-c2d1c7a172e0",
   "metadata": {},
   "outputs": [],
   "source": [
    "f.close()"
   ]
  },
  {
   "cell_type": "code",
   "execution_count": 44,
   "id": "f02a242e-4cf3-48a4-af5b-97fb46b03518",
   "metadata": {},
   "outputs": [],
   "source": [
    "f=open(\"test.txt\",'r')"
   ]
  },
  {
   "cell_type": "code",
   "execution_count": 45,
   "id": "02b6d4e9-d669-448e-b5b8-3053850d5dc6",
   "metadata": {},
   "outputs": [
    {
     "data": {
      "text/plain": [
       "'this is my fileData science is a multidisciplinary field that uses scientific methods, algorithms, and systems to extract knowledge and insights from data. It combines principles from computer science, statistics, mathematics, and domain expertise to analyze large amounts of data and solve problems in various domains. Essentially, data science helps businesses and organizations understand their data to make better decisions. '"
      ]
     },
     "execution_count": 45,
     "metadata": {},
     "output_type": "execute_result"
    }
   ],
   "source": [
    "f.read()"
   ]
  },
  {
   "cell_type": "code",
   "execution_count": 46,
   "id": "728e928c-a4fc-436b-aca7-ccef758fdd7b",
   "metadata": {},
   "outputs": [
    {
     "data": {
      "text/plain": [
       "<_io.TextIOWrapper name='test.txt' mode='r' encoding='cp1252'>"
      ]
     },
     "execution_count": 46,
     "metadata": {},
     "output_type": "execute_result"
    }
   ],
   "source": [
    "f"
   ]
  },
  {
   "cell_type": "code",
   "execution_count": 47,
   "id": "58b5d6f8-4236-4992-b067-f570337f42b1",
   "metadata": {},
   "outputs": [
    {
     "data": {
      "text/plain": [
       "''"
      ]
     },
     "execution_count": 47,
     "metadata": {},
     "output_type": "execute_result"
    }
   ],
   "source": [
    "f.readline()"
   ]
  },
  {
   "cell_type": "code",
   "execution_count": 48,
   "id": "b2175f9f-53d7-4417-99ce-abf35b52efc7",
   "metadata": {},
   "outputs": [
    {
     "data": {
      "text/plain": [
       "[]"
      ]
     },
     "execution_count": 48,
     "metadata": {},
     "output_type": "execute_result"
    }
   ],
   "source": [
    "f.readlines()"
   ]
  },
  {
   "cell_type": "code",
   "execution_count": 49,
   "id": "dccf8f69-5142-4072-880c-62d34d1c90ef",
   "metadata": {},
   "outputs": [
    {
     "data": {
      "text/plain": [
       "0"
      ]
     },
     "execution_count": 49,
     "metadata": {},
     "output_type": "execute_result"
    }
   ],
   "source": [
    "f.seek(0) #set poniter to zero position par"
   ]
  },
  {
   "cell_type": "code",
   "execution_count": 50,
   "id": "3d40c8dd-5b79-4d40-bfb6-99eeafe80ea8",
   "metadata": {},
   "outputs": [
    {
     "data": {
      "text/plain": [
       "'this is my fileData science is a multidisciplinary field that uses scientific methods, algorithms, and systems to extract knowledge and insights from data. It combines principles from computer science, statistics, mathematics, and domain expertise to analyze large amounts of data and solve problems in various domains. Essentially, data science helps businesses and organizations understand their data to make better decisions. '"
      ]
     },
     "execution_count": 50,
     "metadata": {},
     "output_type": "execute_result"
    }
   ],
   "source": [
    "f.readline()"
   ]
  },
  {
   "cell_type": "code",
   "execution_count": 51,
   "id": "1dc1f290-91cd-4424-9e46-f6dec6f9bc1b",
   "metadata": {},
   "outputs": [
    {
     "data": {
      "text/plain": [
       "[]"
      ]
     },
     "execution_count": 51,
     "metadata": {},
     "output_type": "execute_result"
    }
   ],
   "source": [
    "f.readlines()"
   ]
  },
  {
   "cell_type": "code",
   "execution_count": 52,
   "id": "3687a807-0270-4ce3-866a-46bdd637484b",
   "metadata": {},
   "outputs": [
    {
     "data": {
      "text/plain": [
       "''"
      ]
     },
     "execution_count": 52,
     "metadata": {},
     "output_type": "execute_result"
    }
   ],
   "source": [
    "f.readline()"
   ]
  },
  {
   "cell_type": "code",
   "execution_count": 53,
   "id": "fd1dbb7d-e195-4d1d-8ea4-ce6ffd5c0408",
   "metadata": {},
   "outputs": [
    {
     "data": {
      "text/plain": [
       "0"
      ]
     },
     "execution_count": 53,
     "metadata": {},
     "output_type": "execute_result"
    }
   ],
   "source": [
    "f.seek(0)"
   ]
  },
  {
   "cell_type": "code",
   "execution_count": 54,
   "id": "8c037b67-c37f-4c52-9bcf-7f465d35645e",
   "metadata": {},
   "outputs": [
    {
     "data": {
      "text/plain": [
       "'this is my fileData science is a multidisciplinary field that uses scientific methods, algorithms, and systems to extract knowledge and insights from data. It combines principles from computer science, statistics, mathematics, and domain expertise to analyze large amounts of data and solve problems in various domains. Essentially, data science helps businesses and organizations understand their data to make better decisions. '"
      ]
     },
     "execution_count": 54,
     "metadata": {},
     "output_type": "execute_result"
    }
   ],
   "source": [
    "f.readline()"
   ]
  },
  {
   "cell_type": "code",
   "execution_count": 58,
   "id": "aa0dc29b-f6df-498c-8968-0d617cc9cc52",
   "metadata": {},
   "outputs": [],
   "source": [
    "data1=open(\"test.txt\",\"r\")"
   ]
  },
  {
   "cell_type": "code",
   "execution_count": 59,
   "id": "d237c0f0-1de5-4d88-8e28-dc98f2cefb2b",
   "metadata": {},
   "outputs": [
    {
     "name": "stdout",
     "output_type": "stream",
     "text": [
      "this is my fileData science is a multidisciplinary field that uses scientific methods, algorithms, and systems to extract knowledge and insights from data. It combines principles from computer science, statistics, mathematics, and domain expertise to analyze large amounts of data and solve problems in various domains. Essentially, data science helps businesses and organizations understand their data to make better decisions. \n"
     ]
    }
   ],
   "source": [
    "for i in data1:\n",
    "    print(i)"
   ]
  },
  {
   "cell_type": "code",
   "execution_count": 67,
   "id": "99711925-375f-4e4f-99c0-dbdb89910d6d",
   "metadata": {},
   "outputs": [],
   "source": [
    "import os"
   ]
  },
  {
   "cell_type": "code",
   "execution_count": 68,
   "id": "b5c51b39-b906-40bc-9491-96c0c0d6a848",
   "metadata": {},
   "outputs": [
    {
     "data": {
      "text/plain": [
       "429"
      ]
     },
     "execution_count": 68,
     "metadata": {},
     "output_type": "execute_result"
    }
   ],
   "source": [
    "os.path.getsize(\"test.txt\")"
   ]
  },
  {
   "cell_type": "code",
   "execution_count": 69,
   "id": "ac0263a7-63fb-43c2-9097-da0679fde6af",
   "metadata": {},
   "outputs": [
    {
     "ename": "PermissionError",
     "evalue": "[WinError 32] The process cannot access the file because it is being used by another process: 'test.txt'",
     "output_type": "error",
     "traceback": [
      "\u001b[1;31m---------------------------------------------------------------------------\u001b[0m",
      "\u001b[1;31mPermissionError\u001b[0m                           Traceback (most recent call last)",
      "Cell \u001b[1;32mIn[69], line 1\u001b[0m\n\u001b[1;32m----> 1\u001b[0m \u001b[43mos\u001b[49m\u001b[38;5;241;43m.\u001b[39;49m\u001b[43mremove\u001b[49m\u001b[43m(\u001b[49m\u001b[38;5;124;43m\"\u001b[39;49m\u001b[38;5;124;43mtest.txt\u001b[39;49m\u001b[38;5;124;43m\"\u001b[39;49m\u001b[43m)\u001b[49m\n",
      "\u001b[1;31mPermissionError\u001b[0m: [WinError 32] The process cannot access the file because it is being used by another process: 'test.txt'"
     ]
    }
   ],
   "source": [
    "os.remove(\"test.txt\")"
   ]
  },
  {
   "cell_type": "code",
   "execution_count": 70,
   "id": "d7e517e9-bb82-4eb8-97c2-6de48d83a570",
   "metadata": {},
   "outputs": [],
   "source": [
    "f=open(\"test1.txt\",'w')"
   ]
  },
  {
   "cell_type": "code",
   "execution_count": 72,
   "id": "b0c68bc8-6a7f-48b1-815b-52f789cfc1f1",
   "metadata": {},
   "outputs": [
    {
     "data": {
      "text/plain": [
       "429"
      ]
     },
     "execution_count": 72,
     "metadata": {},
     "output_type": "execute_result"
    }
   ],
   "source": [
    "f.write(\"this is my fileData science is a multidisciplinary field that uses scientific methods, algorithms, and systems to extract knowledge and insights from data. It combines principles from computer science, statistics, mathematics, and domain expertise to analyze large amounts of data and solve problems in various domains. Essentially, data science helps businesses and organizations understand their data to make better decisions. \")"
   ]
  },
  {
   "cell_type": "code",
   "execution_count": 73,
   "id": "c76a69a4-f612-4a8b-832e-2d82e9815f09",
   "metadata": {},
   "outputs": [],
   "source": [
    "f.close()"
   ]
  },
  {
   "cell_type": "code",
   "execution_count": 74,
   "id": "bfd70477-14a3-4c9d-bf38-91f2f453b991",
   "metadata": {},
   "outputs": [],
   "source": [
    "os.rename(\"test1.txt\",\"newtest.txt\")"
   ]
  },
  {
   "cell_type": "code",
   "execution_count": 75,
   "id": "048ed90f-f77c-45f4-9c3d-1cc1f7ac706c",
   "metadata": {},
   "outputs": [
    {
     "name": "stdout",
     "output_type": "stream",
     "text": [
      " Volume in drive D is Acer\n",
      " Volume Serial Number is 702A-5701\n",
      "\n",
      " Directory of D:\\New folder\\File handling\n",
      "\n",
      "15-06-2025  14:02    <DIR>          .\n",
      "15-06-2025  13:45    <DIR>          ..\n",
      "15-06-2025  13:45    <DIR>          .ipynb_checkpoints\n",
      "15-06-2025  14:01               429 newtest.txt\n",
      "15-06-2025  13:57               429 test.txt\n",
      "15-06-2025  14:00            12,127 Untitled.ipynb\n",
      "               3 File(s)         12,985 bytes\n",
      "               3 Dir(s)  128,274,571,264 bytes free\n"
     ]
    }
   ],
   "source": [
    "ls"
   ]
  },
  {
   "cell_type": "code",
   "execution_count": 76,
   "id": "0282dcca-4f80-415b-8e60-301d760767f3",
   "metadata": {},
   "outputs": [],
   "source": [
    "import shutil"
   ]
  },
  {
   "cell_type": "code",
   "execution_count": 77,
   "id": "adc9c951-72c4-4491-bd3b-d1de252e2e29",
   "metadata": {},
   "outputs": [
    {
     "data": {
      "text/plain": [
       "'copy_new.txt'"
      ]
     },
     "execution_count": 77,
     "metadata": {},
     "output_type": "execute_result"
    }
   ],
   "source": [
    "shutil.copy(\"newtest.txt\",\"copy_new.txt\")"
   ]
  },
  {
   "cell_type": "code",
   "execution_count": 78,
   "id": "94d57730-9ff0-4427-97e8-38df9861b289",
   "metadata": {},
   "outputs": [
    {
     "name": "stdout",
     "output_type": "stream",
     "text": [
      " Volume in drive D is Acer\n",
      " Volume Serial Number is 702A-5701\n",
      "\n",
      " Directory of D:\\New folder\\File handling\n",
      "\n",
      "15-06-2025  14:03    <DIR>          .\n",
      "15-06-2025  13:45    <DIR>          ..\n",
      "15-06-2025  13:45    <DIR>          .ipynb_checkpoints\n",
      "15-06-2025  14:03               429 copy_new.txt\n",
      "15-06-2025  14:01               429 newtest.txt\n",
      "15-06-2025  13:57               429 test.txt\n",
      "15-06-2025  14:02            14,388 Untitled.ipynb\n",
      "               4 File(s)         15,675 bytes\n",
      "               3 Dir(s)  128,274,567,168 bytes free\n"
     ]
    }
   ],
   "source": [
    "ls"
   ]
  },
  {
   "cell_type": "code",
   "execution_count": 79,
   "id": "d6da190e-b6cf-4304-9c4a-b124eb22df9e",
   "metadata": {},
   "outputs": [
    {
     "name": "stdout",
     "output_type": "stream",
     "text": [
      "this is my fileData science is a multidisciplinary field that uses scientific methods, algorithms, and systems to extract knowledge and insights from data. It combines principles from computer science, statistics, mathematics, and domain expertise to analyze large amounts of data and solve problems in various domains. Essentially, data science helps businesses and organizations understand their data to make better decisions. \n"
     ]
    }
   ],
   "source": [
    " with open(\"newtest.txt\",'r') as f:\n",
    "     print(f.read())"
   ]
  },
  {
   "cell_type": "code",
   "execution_count": null,
   "id": "eb71e3d1-ef42-4e81-bd4b-a7e8c0b21009",
   "metadata": {},
   "outputs": [],
   "source": []
  }
 ],
 "metadata": {
  "kernelspec": {
   "display_name": "Python 3 (ipykernel)",
   "language": "python",
   "name": "python3"
  },
  "language_info": {
   "codemirror_mode": {
    "name": "ipython",
    "version": 3
   },
   "file_extension": ".py",
   "mimetype": "text/x-python",
   "name": "python",
   "nbconvert_exporter": "python",
   "pygments_lexer": "ipython3",
   "version": "3.12.1"
  }
 },
 "nbformat": 4,
 "nbformat_minor": 5
}
