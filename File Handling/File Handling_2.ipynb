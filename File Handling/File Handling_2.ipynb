{
 "cells": [
  {
   "cell_type": "code",
   "execution_count": 1,
   "id": "6a073de1-de4d-4e72-a43d-e8b9c3e1bff7",
   "metadata": {},
   "outputs": [],
   "source": [
    "data={\n",
    "    \"Name\" : \"Harsh\",\n",
    "    \"mail_id\" : \"harsh@gmail.com\",\n",
    "    \"phone Number\" : 7985641235,\n",
    "    \"Subject\" : [\"Data Science \", \"Big Data\", \"data analytics\"]\n",
    "}"
   ]
  },
  {
   "cell_type": "code",
   "execution_count": 2,
   "id": "57d8e9c7-2940-4bdf-8570-d6847969570d",
   "metadata": {},
   "outputs": [],
   "source": [
    "import json"
   ]
  },
  {
   "cell_type": "code",
   "execution_count": 3,
   "id": "c7ba2443-fe5c-4245-a103-2a5e4d9196fb",
   "metadata": {},
   "outputs": [],
   "source": [
    "with open(\"data.json\",\"w\") as f:\n",
    "    json.dump(data,f)"
   ]
  },
  {
   "cell_type": "code",
   "execution_count": 4,
   "id": "835cfc6a-97e7-48b4-b138-577074d51b4f",
   "metadata": {},
   "outputs": [],
   "source": [
    "with open(\"data.json\",\"r\") as f:\n",
    "    data1= json.load(f)"
   ]
  },
  {
   "cell_type": "code",
   "execution_count": 5,
   "id": "ad9188c6-7b29-49da-b8ae-a5e115fe6fec",
   "metadata": {},
   "outputs": [
    {
     "data": {
      "text/plain": [
       "{'Name': 'Harsh',\n",
       " 'mail_id': 'harsh@gmail.com',\n",
       " 'phone Number': 7985641235,\n",
       " 'Subject': ['Data Science ', 'Big Data', 'data analytics']}"
      ]
     },
     "execution_count": 5,
     "metadata": {},
     "output_type": "execute_result"
    }
   ],
   "source": [
    "data1"
   ]
  },
  {
   "cell_type": "code",
   "execution_count": 9,
   "id": "11cbbff2-8307-466d-a1ee-8a629d818d04",
   "metadata": {},
   "outputs": [
    {
     "data": {
      "text/plain": [
       "['Data Science ', 'Big Data', 'data analytics']"
      ]
     },
     "execution_count": 9,
     "metadata": {},
     "output_type": "execute_result"
    }
   ],
   "source": [
    "data1['Subject']"
   ]
  },
  {
   "cell_type": "code",
   "execution_count": 10,
   "id": "07102905-5ee8-424f-b475-9acb62dcbca4",
   "metadata": {},
   "outputs": [
    {
     "data": {
      "text/plain": [
       "'Big Data'"
      ]
     },
     "execution_count": 10,
     "metadata": {},
     "output_type": "execute_result"
    }
   ],
   "source": [
    "data1['Subject'][1]"
   ]
  },
  {
   "cell_type": "code",
   "execution_count": 11,
   "id": "6b67e765-a7ff-49ec-b96a-02c7e20c7d82",
   "metadata": {},
   "outputs": [],
   "source": [
    "import csv"
   ]
  },
  {
   "cell_type": "code",
   "execution_count": 12,
   "id": "2d3e7f1e-56cf-4862-91e0-ca4e51ff3c46",
   "metadata": {},
   "outputs": [],
   "source": [
    "data =[\n",
    "    [\"name\",\"Email_id\",\"Phone\"],\n",
    "    [\"Harsh\",\"harsh@gmail.com\",798465412],\n",
    "    [\"Krishna\",\"Krishna@gmail.com\",8187456254]\n",
    "]"
   ]
  },
  {
   "cell_type": "code",
   "execution_count": 14,
   "id": "e4ba4e1e-efc3-498b-aa28-d769d4fc3e29",
   "metadata": {},
   "outputs": [],
   "source": [
    "with open(\"data.csv\",\"w\") as f:\n",
    "    writer=csv.writer(f)\n",
    "\n",
    "    for i in data:\n",
    "        writer.writerow(i)"
   ]
  },
  {
   "cell_type": "code",
   "execution_count": 15,
   "id": "173c576a-1ba4-4558-ba48-f74cd809f724",
   "metadata": {},
   "outputs": [
    {
     "name": "stdout",
     "output_type": "stream",
     "text": [
      "['name', 'Email_id', 'Phone']\n",
      "[]\n",
      "['Harsh', 'harsh@gmail.com', '798465412']\n",
      "[]\n",
      "['Krishna', 'Krishna@gmail.com', '8187456254']\n",
      "[]\n"
     ]
    }
   ],
   "source": [
    "with open(\"data.csv\",'r') as f:\n",
    "    read_data=csv.reader(f)\n",
    "\n",
    "    for i in read_data:\n",
    "        print(i)"
   ]
  },
  {
   "cell_type": "code",
   "execution_count": 17,
   "id": "e8e6960e-8f53-4ac3-831e-f8ccecfdbf12",
   "metadata": {},
   "outputs": [],
   "source": [
    "with open(\"test5.bin\",\"wb\") as f:\n",
    "    f.write(b\"\\x01\\x02\\x03 \")"
   ]
  },
  {
   "cell_type": "code",
   "execution_count": 18,
   "id": "cf70b9f3-0b5f-4f67-abfb-4d7dfba03946",
   "metadata": {},
   "outputs": [
    {
     "name": "stdout",
     "output_type": "stream",
     "text": [
      "b'\\x01\\x02\\x03 '\n"
     ]
    }
   ],
   "source": [
    "with open(\"test5.bin\",'rb') as f:\n",
    "    print(f.read())"
   ]
  },
  {
   "cell_type": "code",
   "execution_count": null,
   "id": "504d7187-faf8-48ac-8c33-a80357a02d07",
   "metadata": {},
   "outputs": [],
   "source": []
  }
 ],
 "metadata": {
  "kernelspec": {
   "display_name": "Python 3 (ipykernel)",
   "language": "python",
   "name": "python3"
  },
  "language_info": {
   "codemirror_mode": {
    "name": "ipython",
    "version": 3
   },
   "file_extension": ".py",
   "mimetype": "text/x-python",
   "name": "python",
   "nbconvert_exporter": "python",
   "pygments_lexer": "ipython3",
   "version": "3.12.1"
  }
 },
 "nbformat": 4,
 "nbformat_minor": 5
}
