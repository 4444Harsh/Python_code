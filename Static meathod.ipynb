{
 "cells": [
  {
   "cell_type": "code",
   "execution_count": 2,
   "id": "7ce93580-46c2-409a-ac02-1a5b8144e76e",
   "metadata": {},
   "outputs": [],
   "source": [
    "class pwskill:\n",
    "    def student_details(self, name, mail_id, number):\n",
    "        print(name, mail_id, number)\n"
   ]
  },
  {
   "cell_type": "code",
   "execution_count": 3,
   "id": "e12c7720-896d-49d8-953b-dd25b0b02cc3",
   "metadata": {},
   "outputs": [],
   "source": [
    "pw=pwskill()"
   ]
  },
  {
   "cell_type": "code",
   "execution_count": 4,
   "id": "674b2c6c-bdcc-4129-bf70-14b1e41dd28b",
   "metadata": {},
   "outputs": [
    {
     "name": "stdout",
     "output_type": "stream",
     "text": [
      "joker  guptahrwhs@gmailc.com 798978799789\n"
     ]
    }
   ],
   "source": [
    "pw.student_details(\"joker\" ,\" guptahrwhs@gmailc.com\", 798978799789)"
   ]
  },
  {
   "cell_type": "code",
   "execution_count": 11,
   "id": "257ead61-dd38-4486-9cce-e7b06aa2f97b",
   "metadata": {},
   "outputs": [],
   "source": [
    "class pwskill1:\n",
    "    def student_details(self, name, mail_id, number):\n",
    "        print(name, mail_id, number)\n",
    "\n",
    "    @staticmethod\n",
    "    def mentor_class(list_mentor):\n",
    "        print(list_mentor)\n",
    "\n",
    "    def mentor(self,mentor_list):\n",
    "        print(mentor_list)"
   ]
  },
  {
   "cell_type": "code",
   "execution_count": 12,
   "id": "ec9f4347-1956-437e-8370-c0958cc58053",
   "metadata": {},
   "outputs": [
    {
     "name": "stdout",
     "output_type": "stream",
     "text": [
      "['sudh', 'Krishna', 'ion']\n"
     ]
    }
   ],
   "source": [
    "pwskill1.mentor_class([\"sudh\",\"Krishna\",\"ion\"])"
   ]
  },
  {
   "cell_type": "markdown",
   "id": "b4921e7b-cc70-4bcb-83c5-57dc553e5fac",
   "metadata": {},
   "source": [
    "below code shows that for every instance there making again and again the mentor function for every object."
   ]
  },
  {
   "cell_type": "code",
   "execution_count": 8,
   "id": "5b5f3c49-a0ea-4ec4-9f37-fc73ddcc8a55",
   "metadata": {},
   "outputs": [],
   "source": [
    "stu1=pwskill1()"
   ]
  },
  {
   "cell_type": "code",
   "execution_count": 9,
   "id": "c1c6ff68-11c0-47b1-bddd-766201ddd634",
   "metadata": {},
   "outputs": [],
   "source": [
    "stu2=pwskill1()"
   ]
  },
  {
   "cell_type": "code",
   "execution_count": 10,
   "id": "c3b5686c-a2b4-4742-87f2-667fdb0b571c",
   "metadata": {},
   "outputs": [],
   "source": [
    "stu3=pwskill1()"
   ]
  },
  {
   "cell_type": "code",
   "execution_count": 19,
   "id": "38017eec-2c32-467e-bc72-7ebc4a8fa13b",
   "metadata": {},
   "outputs": [],
   "source": [
    "class pwskill2:\n",
    "    def student_details(self, name, mail_id, number):\n",
    "        print(name, mail_id, number)\n",
    "\n",
    "    @staticmethod\n",
    "    def mentor_mail_id(mail_id_mentor):\n",
    "        print(mail_id_mentor)\n",
    "    @staticmethod\n",
    "    def mentor_class(list_mentor):\n",
    "        pwskill2.mentor_mail_id([\"sudh@gmail.com\",\"Krish@gmail.com\"]) #static meathod me statci ko call or use karna\n",
    "        print(list_mentor)\n",
    "\n",
    "    @classmethod\n",
    "    def class_name(cls):\n",
    "        cls.mentor_class([\"Sudh\",\"Krish\"]) #classmeathod me static ko call karna\n",
    "    \n",
    "    def mentor(self,mentor_list):\n",
    "        print(mentor_list)\n",
    "        self.mentor_class([\"Krish\",\"Sudh\"]) # instance meathod me static ko use karna"
   ]
  },
  {
   "cell_type": "code",
   "execution_count": 22,
   "id": "2957740c-37a4-4852-a4ef-1bcd85238642",
   "metadata": {},
   "outputs": [
    {
     "name": "stdout",
     "output_type": "stream",
     "text": [
      "['sudh@gmail.com', 'Krish@gmail.com']\n",
      "['Sudh', 'Krish']\n"
     ]
    }
   ],
   "source": [
    "pwskill2.class_name() # class meathod inside static method"
   ]
  },
  {
   "cell_type": "code",
   "execution_count": 23,
   "id": "14d9e5f5-a9fe-4a3f-a575-1bbc63c8efda",
   "metadata": {},
   "outputs": [
    {
     "name": "stdout",
     "output_type": "stream",
     "text": [
      "['sudh@gmail.com', 'Krish@gmail.com']\n",
      "['sudh', 'Krish']\n"
     ]
    }
   ],
   "source": [
    "pwskill2.mentor_class([\"sudh\",\"Krish\"]) # static meathod inside static meathod"
   ]
  },
  {
   "cell_type": "code",
   "execution_count": 25,
   "id": "d40cc7d8-dfe1-42f5-83a9-df1fc5d8e843",
   "metadata": {},
   "outputs": [],
   "source": [
    "pw2=pwskill2()"
   ]
  },
  {
   "cell_type": "code",
   "execution_count": 28,
   "id": "aa305bc9-b13f-45a7-8129-eb8372bad85e",
   "metadata": {},
   "outputs": [
    {
     "name": "stdout",
     "output_type": "stream",
     "text": [
      "['Sudh', 'Krish']\n",
      "['sudh@gmail.com', 'Krish@gmail.com']\n",
      "['Krish', 'Sudh']\n"
     ]
    }
   ],
   "source": [
    "pw2.mentor([\"Sudh\", \"Krish\"]) # instance meathod inside static meathod"
   ]
  },
  {
   "cell_type": "markdown",
   "id": "7e24cb7e-4f7b-43ac-b49f-f69f4d010e9e",
   "metadata": {},
   "source": [
    "where we use static meathod , whenever we create a something again and again, means that why we create a samething for every object repeatedly."
   ]
  }
 ],
 "metadata": {
  "kernelspec": {
   "display_name": "Python 3 (ipykernel)",
   "language": "python",
   "name": "python3"
  },
  "language_info": {
   "codemirror_mode": {
    "name": "ipython",
    "version": 3
   },
   "file_extension": ".py",
   "mimetype": "text/x-python",
   "name": "python",
   "nbconvert_exporter": "python",
   "pygments_lexer": "ipython3",
   "version": "3.12.1"
  }
 },
 "nbformat": 4,
 "nbformat_minor": 5
}
